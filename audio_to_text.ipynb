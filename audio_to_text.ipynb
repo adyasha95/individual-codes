{
  "nbformat": 4,
  "nbformat_minor": 0,
  "metadata": {
    "colab": {
      "provenance": [],
      "authorship_tag": "ABX9TyPo4VgKLmxKRr3FLi4qcsw7",
      "include_colab_link": true
    },
    "kernelspec": {
      "name": "python3",
      "display_name": "Python 3"
    },
    "language_info": {
      "name": "python"
    }
  },
  "cells": [
    {
      "cell_type": "markdown",
      "metadata": {
        "id": "view-in-github",
        "colab_type": "text"
      },
      "source": [
        "<a href=\"https://colab.research.google.com/github/adyasha95/individual-codes/blob/main/audio_to_text.ipynb\" target=\"_parent\"><img src=\"https://colab.research.google.com/assets/colab-badge.svg\" alt=\"Open In Colab\"/></a>"
      ]
    },
    {
      "cell_type": "code",
      "execution_count": null,
      "metadata": {
        "id": "GTxaKH0oP6ph"
      },
      "outputs": [],
      "source": [
        "# STEP 1: Install Whisper\n",
        "!pip install git+https://github.com/openai/whisper.git\n",
        "!apt install ffmpeg\n",
        "\n",
        "# STEP 2: Upload your audio files (the .opus WhatsApp files)\n",
        "from google.colab import files\n",
        "uploaded = files.upload()\n",
        "\n",
        "# STEP 3: Import Whisper and transcribe\n",
        "import whisper\n",
        "\n",
        "# Load the model (you can also use \"base\", \"medium\", or \"large\")\n",
        "model = whisper.load_model(\"small\")\n",
        "\n",
        "# Transcribe each uploaded file\n",
        "for fname in uploaded.keys():\n",
        "    print(f\"Transcribing {fname} ...\")\n",
        "    result = model.transcribe(fname)\n",
        "    print(\"------ TRANSCRIPT ------\")\n",
        "    print(result[\"text\"])\n",
        "    print(\"------------------------\\n\")"
      ]
    },
    {
      "cell_type": "code",
      "source": [],
      "metadata": {
        "id": "CjJQumCAb2Rl"
      },
      "execution_count": null,
      "outputs": []
    }
  ]
}